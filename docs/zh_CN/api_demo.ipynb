{
 "cells": [
  {
   "cell_type": "markdown",
   "metadata": {},
   "source": [
    "WebAPI 可以通过任何语言的网络请求库来使用。此处以 Python 的 `requests` 库为例进行展示。"
   ]
  },
  {
   "cell_type": "code",
   "execution_count": null,
   "metadata": {},
   "outputs": [],
   "source": [
    "import requests\n",
    "from PIL import Image\n",
    "import io\n",
    "import numpy as np\n",
    "from rich import print\n"
   ]
  },
  {
   "cell_type": "code",
   "execution_count": null,
   "metadata": {},
   "outputs": [],
   "source": [
    "base_url = \"https://eslzzyl.eu.org/api/v1/\"  # 根据部署情况进行修改\n",
    "\n",
    "# 检查 WebAPI 是否可用\n",
    "response = requests.get(base_url)\n",
    "# 如果一切正常，应当得到 Hello, this is the root page of the API\n",
    "print(response.text)\n"
   ]
  },
  {
   "cell_type": "code",
   "execution_count": null,
   "metadata": {},
   "outputs": [],
   "source": [
    "# 获取模型列表\n",
    "response = requests.get(base_url + \"models\")\n",
    "models = response.json()\n",
    "print(models)\n"
   ]
  },
  {
   "cell_type": "code",
   "execution_count": null,
   "metadata": {},
   "outputs": [],
   "source": [
    "# 过滤出所有 task 为 deraining 的模型\n",
    "deraining_models = [model for model in models if \"deraining\" in model[\"task\"]]\n",
    "print(deraining_models)\n"
   ]
  },
  {
   "cell_type": "code",
   "execution_count": null,
   "metadata": {},
   "outputs": [],
   "source": [
    "# 读取一张图片\n",
    "img_in = Image.open(\"../img/rain100l.jpg\")\n",
    "display(img_in)\n"
   ]
  },
  {
   "cell_type": "code",
   "execution_count": null,
   "metadata": {},
   "outputs": [],
   "source": [
    "# 将 PIL Image 转换为字节流\n",
    "img_byte_array = io.BytesIO()\n",
    "img_in.save(img_byte_array, format=\"JPEG\")\n",
    "img_byte_array = img_byte_array.getvalue()\n",
    "print(type(img_byte_array))\n"
   ]
  },
  {
   "cell_type": "code",
   "execution_count": null,
   "metadata": {},
   "outputs": [],
   "source": [
    "model_name = \"PReNet-Rain100L\"\n",
    "return_img_format = \"JPEG\"\n",
    "\n",
    "# 设置文件数据\n",
    "files = {\"file\": (\"low.jpg\", img_byte_array, \"image/jpeg\")}\n",
    "# 设置请求 URL\n",
    "request_url = (\n",
    "    f\"{base_url}restore?model_name={model_name}&return_img_format={return_img_format}\"\n",
    ")\n",
    "# 发送请求\n",
    "response = requests.put(request_url, files=files)\n",
    "assert response.status_code == 200\n",
    "# 获取返回的图片\n",
    "img_out = Image.open(io.BytesIO(response.content), formats=[return_img_format])\n",
    "display(img_out)\n"
   ]
  },
  {
   "cell_type": "code",
   "execution_count": null,
   "metadata": {},
   "outputs": [],
   "source": [
    "# 对比\n",
    "img_concat = np.concatenate([np.array(img_in), np.array(img_out)], axis=1)\n",
    "display(Image.fromarray(img_concat))\n"
   ]
  },
  {
   "cell_type": "code",
   "execution_count": null,
   "metadata": {},
   "outputs": [],
   "source": []
  }
 ],
 "metadata": {
  "kernelspec": {
   "display_name": "base",
   "language": "python",
   "name": "python3"
  },
  "language_info": {
   "codemirror_mode": {
    "name": "ipython",
    "version": 3
   },
   "file_extension": ".py",
   "mimetype": "text/x-python",
   "name": "python",
   "nbconvert_exporter": "python",
   "pygments_lexer": "ipython3",
   "version": "3.12.4"
  }
 },
 "nbformat": 4,
 "nbformat_minor": 2
}
